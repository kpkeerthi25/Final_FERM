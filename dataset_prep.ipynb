{
 "metadata": {
  "language_info": {
   "codemirror_mode": {
    "name": "ipython",
    "version": 3
   },
   "file_extension": ".py",
   "mimetype": "text/x-python",
   "name": "python",
   "nbconvert_exporter": "python",
   "pygments_lexer": "ipython3",
   "version": "3.8.3-final"
  },
  "orig_nbformat": 2,
  "kernelspec": {
   "name": "python3",
   "display_name": "Python 3.8.3 64-bit ('base': conda)",
   "metadata": {
    "interpreter": {
     "hash": "6e26f036ab1dd2568d3979abf5890674c5c132ffd7da08cb3e6229af913b809c"
    }
   }
  }
 },
 "nbformat": 4,
 "nbformat_minor": 2,
 "cells": [
  {
   "cell_type": "code",
   "execution_count": 5,
   "metadata": {},
   "outputs": [
    {
     "output_type": "stream",
     "name": "stdout",
     "text": [
      "             0          1          2           3          4          5  \\\n0    37.275390   7.091289  22.408050   75.057394  79.186066  64.777248   \n1    35.058061   6.383887  25.934039   94.483698  74.751924  62.586091   \n2    30.905026   9.543419  24.383575  110.813165  80.922596  62.023324   \n3    40.219710  11.092948  28.819444  106.647611  83.829976  70.150141   \n4    48.587126  10.244982  32.699414   80.045979  74.229954  75.716847   \n..         ...        ...        ...         ...        ...        ...   \n975  34.882828   7.230665  20.815900   55.806705  82.957266  68.510759   \n976  44.270820  13.509723  25.003323   78.366010  88.762473  78.358998   \n977  44.896504  12.265393  23.487181   81.537653  89.039486  73.183996   \n978  49.432277  14.466538  26.174688   88.513804  97.088641  79.552537   \n979  40.390815  11.538288  19.900956   70.186600  64.564352  70.835693   \n\n             6           7          8  \n0    66.257605  145.292062  15.107924  \n1    77.136361  135.388626  14.128128  \n2    89.512320  137.234842  11.964592  \n3    78.943814  129.175615  12.790410  \n4    78.199495  149.007584  13.052565  \n..         ...         ...        ...  \n975  73.177695  150.189243  15.022608  \n976  75.952580  139.122650  15.022608  \n977  80.195200  142.115270  13.736492  \n978  75.244372  127.189243  16.533341  \n979  70.386100  139.914681  15.173579  \n\n[980 rows x 9 columns]\n"
     ]
    }
   ],
   "source": [
    "import pandas as pd\n",
    "import numpy as np\n",
    "df_n = pd.read_csv(\"neutral.csv\")\n",
    "df_o = pd.read_csv(\"others.csv\")\n",
    "data = pd.read_csv(\"dataset.csv\")\n",
    "data = data.iloc[:,1:]\n",
    "res = data.apply(lambda x: x.abs() if np.issubdtype(x.dtype, np.number) else x)\n",
    "\n",
    "emotion = df_o.iloc[:,4]\n",
    "print(res)\n"
   ]
  },
  {
   "cell_type": "code",
   "execution_count": 2,
   "metadata": {},
   "outputs": [
    {
     "output_type": "stream",
     "name": "stdout",
     "text": [
      "(980, 48, 48, 1)\n"
     ]
    }
   ],
   "source": [
    "from scipy.io import loadmat\n",
    "import pandas as pd\n",
    "import numpy as np\n",
    "from random import shuffle\n",
    "import tensorflow as tf\n",
    "import os\n",
    "import cv2\n",
    "\n",
    "def _load_KDEF():\n",
    "        class_to_arg = {'AN': 0, 'DI': 1, 'AF': 2, 'HA': 3, 'SA': 4, 'SU': 5, 'NE': 6}\n",
    "        num_classes = len(class_to_arg)\n",
    "\n",
    "        file_paths = df_o.iloc[:,2]\n",
    "        \n",
    "        num_faces = len(file_paths)\n",
    "        neutral_count = 0\n",
    "        cc=0\n",
    "        y_size, x_size = (48, 48)\n",
    "        faces = np.zeros(shape=(num_faces, y_size, x_size))\n",
    "        face_data = np.zeros(shape=(980, y_size, x_size))\n",
    "        neutral_faces = np.zeros(shape=(int(num_faces/5), y_size, x_size))\n",
    "        neutral_paths = []\n",
    "\n",
    "        face_data = []\n",
    "        emotions = np.zeros(shape=(num_faces, num_classes))\n",
    "        for file_arg, file_path in enumerate(file_paths):\n",
    "            image_array = cv2.imread(file_path, cv2.IMREAD_GRAYSCALE)\n",
    "            image_array = cv2.resize(image_array, (y_size, x_size))\n",
    "\n",
    "            \n",
    "            \n",
    "            faces[file_arg] = image_array\n",
    "            file_basename = os.path.basename(file_path)\n",
    "            file_emotion = file_basename[4:6]\n",
    "            file_angle = file_basename[6]\n",
    "           \n",
    "            try:\n",
    "                emotion_arg = class_to_arg[file_emotion]\n",
    "            except:\n",
    "                continue\n",
    "            emotions[file_arg, emotion_arg] = 1\n",
    "        faces = np.expand_dims(faces, -1)\n",
    "        return file_paths,neutral_paths,neutral_faces,faces, emotions\n",
    "\n",
    "file_paths,neutral_paths,neutral_faces,faces, emotions = _load_KDEF()\n",
    "print(faces.shape)"
   ]
  },
  {
   "cell_type": "code",
   "execution_count": null,
   "metadata": {},
   "outputs": [],
   "source": []
  }
 ]
}